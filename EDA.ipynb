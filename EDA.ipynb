{
  "nbformat": 4,
  "nbformat_minor": 0,
  "metadata": {
    "colab": {
      "provenance": []
    },
    "kernelspec": {
      "name": "python3",
      "display_name": "Python 3"
    },
    "language_info": {
      "name": "python"
    }
  },
  "cells": [
    {
      "cell_type": "code",
      "source": [
        "import pandas as pd\n",
        "import seaborn as sns\n",
        "from matplotlib import pyplot as plt"
      ],
      "metadata": {
        "id": "50K31ZlXV48e"
      },
      "execution_count": null,
      "outputs": []
    },
    {
      "cell_type": "code",
      "execution_count": null,
      "metadata": {
        "id": "RLam25zWTN1U"
      },
      "outputs": [],
      "source": [
        "df = pd.read_csv('https://raw.githubusercontent.com/comp-think/comp-think.github.io/refs/heads/master/laboratory/data/netflix_titles.csv')"
      ]
    },
    {
      "cell_type": "code",
      "source": [
        "df.shape"
      ],
      "metadata": {
        "colab": {
          "base_uri": "https://localhost:8080/"
        },
        "id": "NmlXQlGWWEaZ",
        "outputId": "462cbec3-dabb-401b-827c-fc0fa7c12718"
      },
      "execution_count": null,
      "outputs": [
        {
          "output_type": "execute_result",
          "data": {
            "text/plain": [
              "(6234, 12)"
            ]
          },
          "metadata": {},
          "execution_count": 5
        }
      ]
    },
    {
      "cell_type": "code",
      "source": [
        "df.sample(10)"
      ],
      "metadata": {
        "colab": {
          "base_uri": "https://localhost:8080/",
          "height": 692
        },
        "id": "7f70owGdWLq6",
        "outputId": "0268ccd4-2a56-4591-aaf1-ae6b14860e59"
      },
      "execution_count": null,
      "outputs": [
        {
          "output_type": "execute_result",
          "data": {
            "text/plain": [
              "       show_id     type                             title  \\\n",
              "4830  80059505    Movie                     3 Generations   \n",
              "3908  80022456  TV Show                            Cooked   \n",
              "1779  80223928    Movie                     Malibu Rescue   \n",
              "3627  81046846    Movie  Pokémon the Movie: I Choose You!   \n",
              "4099  70035037    Movie                     The Gathering   \n",
              "1100  80175798    Movie                      The Irishman   \n",
              "2831  80092926  TV Show              Daughters of Destiny   \n",
              "6096  81215567  TV Show                          Cocomong   \n",
              "5750  80115338  TV Show                       Llama Llama   \n",
              "5356  80112518    Movie                   I, Daniel Blake   \n",
              "\n",
              "                  director                                               cast  \\\n",
              "4830           Gaby Dellal  Elle Fanning, Naomi Watts, Susan Sarandon, Tat...   \n",
              "3908                   NaN                                     Michael Pollan   \n",
              "1779  Savage Steve Holland  Ricardo Hurtado, Breanna Yde, Jackie R. Jacobs...   \n",
              "3627       Kunihiko Yuyama  Ikue Otani, Sarah Natochenny, David Oliver Nel...   \n",
              "4099            Nia Dinata  Cut Mini Theo, Tora Sudiro, Aida Nurmala, Sury...   \n",
              "1100       Martin Scorsese  Robert De Niro, Al Pacino, Joe Pesci, Harvey K...   \n",
              "2831          Vanessa Roth                                                NaN   \n",
              "6096                   NaN  Jung Sun-hye, Yang Jeong-hwa, Kim Jang, Ryoo J...   \n",
              "5750                   NaN  Jennifer Garner, Shayle Simons, Vania Gill, Is...   \n",
              "5356             Ken Loach  Dave Johns, Hayley Squires, Briana Shann, Dyla...   \n",
              "\n",
              "                              country          date_added  release_year  \\\n",
              "4830                    United States     August 28, 2017          2015   \n",
              "3908                    United States   February 19, 2016          2016   \n",
              "1779                    United States        May 13, 2019          2019   \n",
              "3627                            Japan     January 1, 2019          2017   \n",
              "4099                        Indonesia    December 8, 2018          2003   \n",
              "1100                    United States   November 27, 2019          2019   \n",
              "2831                    United States       July 28, 2017          2017   \n",
              "6096                              NaN   December 15, 2019          2015   \n",
              "5750                    United States   November 15, 2019          2019   \n",
              "5356  United Kingdom, France, Belgium      April 19, 2019          2016   \n",
              "\n",
              "     rating   duration                                 listed_in  \\\n",
              "4830  PG-13     92 min                      Dramas, LGBTQ Movies   \n",
              "3908  TV-PG   1 Season                                Docuseries   \n",
              "1779   TV-G     70 min        Children & Family Movies, Comedies   \n",
              "3627  TV-Y7     97 min  Anime Features, Children & Family Movies   \n",
              "4099  TV-14    124 min    Comedies, Dramas, International Movies   \n",
              "1100      R    209 min                                    Dramas   \n",
              "2831  TV-PG   1 Season                                Docuseries   \n",
              "6096   TV-Y  2 Seasons                 Kids' TV, Korean TV Shows   \n",
              "5750   TV-Y  2 Seasons                                  Kids' TV   \n",
              "5356      R    100 min                Dramas, Independent Movies   \n",
              "\n",
              "                                            description  \n",
              "4830  When teenage Ray begins transitioning from fem...  \n",
              "3908  As he tries his hand at baking, brewing and br...  \n",
              "1779  When a long list of shenanigans lands Tyler in...  \n",
              "3627  When Ash tries to pick his first Pokémon on hi...  \n",
              "4099  Between divorce, bad relationships and coming ...  \n",
              "1100  Hit man Frank Sheeran looks back at the secret...  \n",
              "2831  Five girls from India's most impoverished fami...  \n",
              "6096  What's in your fridge? In sunny Refrigerator L...  \n",
              "5750  Beloved children's book character Llama Llama ...  \n",
              "5356  While fighting for his welfare benefits follow...  "
            ],
            "text/html": [
              "\n",
              "  <div id=\"df-ecd5a2c7-7ece-4767-b624-36e59e9b98bc\" class=\"colab-df-container\">\n",
              "    <div>\n",
              "<style scoped>\n",
              "    .dataframe tbody tr th:only-of-type {\n",
              "        vertical-align: middle;\n",
              "    }\n",
              "\n",
              "    .dataframe tbody tr th {\n",
              "        vertical-align: top;\n",
              "    }\n",
              "\n",
              "    .dataframe thead th {\n",
              "        text-align: right;\n",
              "    }\n",
              "</style>\n",
              "<table border=\"1\" class=\"dataframe\">\n",
              "  <thead>\n",
              "    <tr style=\"text-align: right;\">\n",
              "      <th></th>\n",
              "      <th>show_id</th>\n",
              "      <th>type</th>\n",
              "      <th>title</th>\n",
              "      <th>director</th>\n",
              "      <th>cast</th>\n",
              "      <th>country</th>\n",
              "      <th>date_added</th>\n",
              "      <th>release_year</th>\n",
              "      <th>rating</th>\n",
              "      <th>duration</th>\n",
              "      <th>listed_in</th>\n",
              "      <th>description</th>\n",
              "    </tr>\n",
              "  </thead>\n",
              "  <tbody>\n",
              "    <tr>\n",
              "      <th>4830</th>\n",
              "      <td>80059505</td>\n",
              "      <td>Movie</td>\n",
              "      <td>3 Generations</td>\n",
              "      <td>Gaby Dellal</td>\n",
              "      <td>Elle Fanning, Naomi Watts, Susan Sarandon, Tat...</td>\n",
              "      <td>United States</td>\n",
              "      <td>August 28, 2017</td>\n",
              "      <td>2015</td>\n",
              "      <td>PG-13</td>\n",
              "      <td>92 min</td>\n",
              "      <td>Dramas, LGBTQ Movies</td>\n",
              "      <td>When teenage Ray begins transitioning from fem...</td>\n",
              "    </tr>\n",
              "    <tr>\n",
              "      <th>3908</th>\n",
              "      <td>80022456</td>\n",
              "      <td>TV Show</td>\n",
              "      <td>Cooked</td>\n",
              "      <td>NaN</td>\n",
              "      <td>Michael Pollan</td>\n",
              "      <td>United States</td>\n",
              "      <td>February 19, 2016</td>\n",
              "      <td>2016</td>\n",
              "      <td>TV-PG</td>\n",
              "      <td>1 Season</td>\n",
              "      <td>Docuseries</td>\n",
              "      <td>As he tries his hand at baking, brewing and br...</td>\n",
              "    </tr>\n",
              "    <tr>\n",
              "      <th>1779</th>\n",
              "      <td>80223928</td>\n",
              "      <td>Movie</td>\n",
              "      <td>Malibu Rescue</td>\n",
              "      <td>Savage Steve Holland</td>\n",
              "      <td>Ricardo Hurtado, Breanna Yde, Jackie R. Jacobs...</td>\n",
              "      <td>United States</td>\n",
              "      <td>May 13, 2019</td>\n",
              "      <td>2019</td>\n",
              "      <td>TV-G</td>\n",
              "      <td>70 min</td>\n",
              "      <td>Children &amp; Family Movies, Comedies</td>\n",
              "      <td>When a long list of shenanigans lands Tyler in...</td>\n",
              "    </tr>\n",
              "    <tr>\n",
              "      <th>3627</th>\n",
              "      <td>81046846</td>\n",
              "      <td>Movie</td>\n",
              "      <td>Pokémon the Movie: I Choose You!</td>\n",
              "      <td>Kunihiko Yuyama</td>\n",
              "      <td>Ikue Otani, Sarah Natochenny, David Oliver Nel...</td>\n",
              "      <td>Japan</td>\n",
              "      <td>January 1, 2019</td>\n",
              "      <td>2017</td>\n",
              "      <td>TV-Y7</td>\n",
              "      <td>97 min</td>\n",
              "      <td>Anime Features, Children &amp; Family Movies</td>\n",
              "      <td>When Ash tries to pick his first Pokémon on hi...</td>\n",
              "    </tr>\n",
              "    <tr>\n",
              "      <th>4099</th>\n",
              "      <td>70035037</td>\n",
              "      <td>Movie</td>\n",
              "      <td>The Gathering</td>\n",
              "      <td>Nia Dinata</td>\n",
              "      <td>Cut Mini Theo, Tora Sudiro, Aida Nurmala, Sury...</td>\n",
              "      <td>Indonesia</td>\n",
              "      <td>December 8, 2018</td>\n",
              "      <td>2003</td>\n",
              "      <td>TV-14</td>\n",
              "      <td>124 min</td>\n",
              "      <td>Comedies, Dramas, International Movies</td>\n",
              "      <td>Between divorce, bad relationships and coming ...</td>\n",
              "    </tr>\n",
              "    <tr>\n",
              "      <th>1100</th>\n",
              "      <td>80175798</td>\n",
              "      <td>Movie</td>\n",
              "      <td>The Irishman</td>\n",
              "      <td>Martin Scorsese</td>\n",
              "      <td>Robert De Niro, Al Pacino, Joe Pesci, Harvey K...</td>\n",
              "      <td>United States</td>\n",
              "      <td>November 27, 2019</td>\n",
              "      <td>2019</td>\n",
              "      <td>R</td>\n",
              "      <td>209 min</td>\n",
              "      <td>Dramas</td>\n",
              "      <td>Hit man Frank Sheeran looks back at the secret...</td>\n",
              "    </tr>\n",
              "    <tr>\n",
              "      <th>2831</th>\n",
              "      <td>80092926</td>\n",
              "      <td>TV Show</td>\n",
              "      <td>Daughters of Destiny</td>\n",
              "      <td>Vanessa Roth</td>\n",
              "      <td>NaN</td>\n",
              "      <td>United States</td>\n",
              "      <td>July 28, 2017</td>\n",
              "      <td>2017</td>\n",
              "      <td>TV-PG</td>\n",
              "      <td>1 Season</td>\n",
              "      <td>Docuseries</td>\n",
              "      <td>Five girls from India's most impoverished fami...</td>\n",
              "    </tr>\n",
              "    <tr>\n",
              "      <th>6096</th>\n",
              "      <td>81215567</td>\n",
              "      <td>TV Show</td>\n",
              "      <td>Cocomong</td>\n",
              "      <td>NaN</td>\n",
              "      <td>Jung Sun-hye, Yang Jeong-hwa, Kim Jang, Ryoo J...</td>\n",
              "      <td>NaN</td>\n",
              "      <td>December 15, 2019</td>\n",
              "      <td>2015</td>\n",
              "      <td>TV-Y</td>\n",
              "      <td>2 Seasons</td>\n",
              "      <td>Kids' TV, Korean TV Shows</td>\n",
              "      <td>What's in your fridge? In sunny Refrigerator L...</td>\n",
              "    </tr>\n",
              "    <tr>\n",
              "      <th>5750</th>\n",
              "      <td>80115338</td>\n",
              "      <td>TV Show</td>\n",
              "      <td>Llama Llama</td>\n",
              "      <td>NaN</td>\n",
              "      <td>Jennifer Garner, Shayle Simons, Vania Gill, Is...</td>\n",
              "      <td>United States</td>\n",
              "      <td>November 15, 2019</td>\n",
              "      <td>2019</td>\n",
              "      <td>TV-Y</td>\n",
              "      <td>2 Seasons</td>\n",
              "      <td>Kids' TV</td>\n",
              "      <td>Beloved children's book character Llama Llama ...</td>\n",
              "    </tr>\n",
              "    <tr>\n",
              "      <th>5356</th>\n",
              "      <td>80112518</td>\n",
              "      <td>Movie</td>\n",
              "      <td>I, Daniel Blake</td>\n",
              "      <td>Ken Loach</td>\n",
              "      <td>Dave Johns, Hayley Squires, Briana Shann, Dyla...</td>\n",
              "      <td>United Kingdom, France, Belgium</td>\n",
              "      <td>April 19, 2019</td>\n",
              "      <td>2016</td>\n",
              "      <td>R</td>\n",
              "      <td>100 min</td>\n",
              "      <td>Dramas, Independent Movies</td>\n",
              "      <td>While fighting for his welfare benefits follow...</td>\n",
              "    </tr>\n",
              "  </tbody>\n",
              "</table>\n",
              "</div>\n",
              "    <div class=\"colab-df-buttons\">\n",
              "\n",
              "  <div class=\"colab-df-container\">\n",
              "    <button class=\"colab-df-convert\" onclick=\"convertToInteractive('df-ecd5a2c7-7ece-4767-b624-36e59e9b98bc')\"\n",
              "            title=\"Convert this dataframe to an interactive table.\"\n",
              "            style=\"display:none;\">\n",
              "\n",
              "  <svg xmlns=\"http://www.w3.org/2000/svg\" height=\"24px\" viewBox=\"0 -960 960 960\">\n",
              "    <path d=\"M120-120v-720h720v720H120Zm60-500h600v-160H180v160Zm220 220h160v-160H400v160Zm0 220h160v-160H400v160ZM180-400h160v-160H180v160Zm440 0h160v-160H620v160ZM180-180h160v-160H180v160Zm440 0h160v-160H620v160Z\"/>\n",
              "  </svg>\n",
              "    </button>\n",
              "\n",
              "  <style>\n",
              "    .colab-df-container {\n",
              "      display:flex;\n",
              "      gap: 12px;\n",
              "    }\n",
              "\n",
              "    .colab-df-convert {\n",
              "      background-color: #E8F0FE;\n",
              "      border: none;\n",
              "      border-radius: 50%;\n",
              "      cursor: pointer;\n",
              "      display: none;\n",
              "      fill: #1967D2;\n",
              "      height: 32px;\n",
              "      padding: 0 0 0 0;\n",
              "      width: 32px;\n",
              "    }\n",
              "\n",
              "    .colab-df-convert:hover {\n",
              "      background-color: #E2EBFA;\n",
              "      box-shadow: 0px 1px 2px rgba(60, 64, 67, 0.3), 0px 1px 3px 1px rgba(60, 64, 67, 0.15);\n",
              "      fill: #174EA6;\n",
              "    }\n",
              "\n",
              "    .colab-df-buttons div {\n",
              "      margin-bottom: 4px;\n",
              "    }\n",
              "\n",
              "    [theme=dark] .colab-df-convert {\n",
              "      background-color: #3B4455;\n",
              "      fill: #D2E3FC;\n",
              "    }\n",
              "\n",
              "    [theme=dark] .colab-df-convert:hover {\n",
              "      background-color: #434B5C;\n",
              "      box-shadow: 0px 1px 3px 1px rgba(0, 0, 0, 0.15);\n",
              "      filter: drop-shadow(0px 1px 2px rgba(0, 0, 0, 0.3));\n",
              "      fill: #FFFFFF;\n",
              "    }\n",
              "  </style>\n",
              "\n",
              "    <script>\n",
              "      const buttonEl =\n",
              "        document.querySelector('#df-ecd5a2c7-7ece-4767-b624-36e59e9b98bc button.colab-df-convert');\n",
              "      buttonEl.style.display =\n",
              "        google.colab.kernel.accessAllowed ? 'block' : 'none';\n",
              "\n",
              "      async function convertToInteractive(key) {\n",
              "        const element = document.querySelector('#df-ecd5a2c7-7ece-4767-b624-36e59e9b98bc');\n",
              "        const dataTable =\n",
              "          await google.colab.kernel.invokeFunction('convertToInteractive',\n",
              "                                                    [key], {});\n",
              "        if (!dataTable) return;\n",
              "\n",
              "        const docLinkHtml = 'Like what you see? Visit the ' +\n",
              "          '<a target=\"_blank\" href=https://colab.research.google.com/notebooks/data_table.ipynb>data table notebook</a>'\n",
              "          + ' to learn more about interactive tables.';\n",
              "        element.innerHTML = '';\n",
              "        dataTable['output_type'] = 'display_data';\n",
              "        await google.colab.output.renderOutput(dataTable, element);\n",
              "        const docLink = document.createElement('div');\n",
              "        docLink.innerHTML = docLinkHtml;\n",
              "        element.appendChild(docLink);\n",
              "      }\n",
              "    </script>\n",
              "  </div>\n",
              "\n",
              "\n",
              "    <div id=\"df-f4f96e08-c3c6-4a0b-9d02-54a08068b599\">\n",
              "      <button class=\"colab-df-quickchart\" onclick=\"quickchart('df-f4f96e08-c3c6-4a0b-9d02-54a08068b599')\"\n",
              "                title=\"Suggest charts\"\n",
              "                style=\"display:none;\">\n",
              "\n",
              "<svg xmlns=\"http://www.w3.org/2000/svg\" height=\"24px\"viewBox=\"0 0 24 24\"\n",
              "     width=\"24px\">\n",
              "    <g>\n",
              "        <path d=\"M19 3H5c-1.1 0-2 .9-2 2v14c0 1.1.9 2 2 2h14c1.1 0 2-.9 2-2V5c0-1.1-.9-2-2-2zM9 17H7v-7h2v7zm4 0h-2V7h2v10zm4 0h-2v-4h2v4z\"/>\n",
              "    </g>\n",
              "</svg>\n",
              "      </button>\n",
              "\n",
              "<style>\n",
              "  .colab-df-quickchart {\n",
              "      --bg-color: #E8F0FE;\n",
              "      --fill-color: #1967D2;\n",
              "      --hover-bg-color: #E2EBFA;\n",
              "      --hover-fill-color: #174EA6;\n",
              "      --disabled-fill-color: #AAA;\n",
              "      --disabled-bg-color: #DDD;\n",
              "  }\n",
              "\n",
              "  [theme=dark] .colab-df-quickchart {\n",
              "      --bg-color: #3B4455;\n",
              "      --fill-color: #D2E3FC;\n",
              "      --hover-bg-color: #434B5C;\n",
              "      --hover-fill-color: #FFFFFF;\n",
              "      --disabled-bg-color: #3B4455;\n",
              "      --disabled-fill-color: #666;\n",
              "  }\n",
              "\n",
              "  .colab-df-quickchart {\n",
              "    background-color: var(--bg-color);\n",
              "    border: none;\n",
              "    border-radius: 50%;\n",
              "    cursor: pointer;\n",
              "    display: none;\n",
              "    fill: var(--fill-color);\n",
              "    height: 32px;\n",
              "    padding: 0;\n",
              "    width: 32px;\n",
              "  }\n",
              "\n",
              "  .colab-df-quickchart:hover {\n",
              "    background-color: var(--hover-bg-color);\n",
              "    box-shadow: 0 1px 2px rgba(60, 64, 67, 0.3), 0 1px 3px 1px rgba(60, 64, 67, 0.15);\n",
              "    fill: var(--button-hover-fill-color);\n",
              "  }\n",
              "\n",
              "  .colab-df-quickchart-complete:disabled,\n",
              "  .colab-df-quickchart-complete:disabled:hover {\n",
              "    background-color: var(--disabled-bg-color);\n",
              "    fill: var(--disabled-fill-color);\n",
              "    box-shadow: none;\n",
              "  }\n",
              "\n",
              "  .colab-df-spinner {\n",
              "    border: 2px solid var(--fill-color);\n",
              "    border-color: transparent;\n",
              "    border-bottom-color: var(--fill-color);\n",
              "    animation:\n",
              "      spin 1s steps(1) infinite;\n",
              "  }\n",
              "\n",
              "  @keyframes spin {\n",
              "    0% {\n",
              "      border-color: transparent;\n",
              "      border-bottom-color: var(--fill-color);\n",
              "      border-left-color: var(--fill-color);\n",
              "    }\n",
              "    20% {\n",
              "      border-color: transparent;\n",
              "      border-left-color: var(--fill-color);\n",
              "      border-top-color: var(--fill-color);\n",
              "    }\n",
              "    30% {\n",
              "      border-color: transparent;\n",
              "      border-left-color: var(--fill-color);\n",
              "      border-top-color: var(--fill-color);\n",
              "      border-right-color: var(--fill-color);\n",
              "    }\n",
              "    40% {\n",
              "      border-color: transparent;\n",
              "      border-right-color: var(--fill-color);\n",
              "      border-top-color: var(--fill-color);\n",
              "    }\n",
              "    60% {\n",
              "      border-color: transparent;\n",
              "      border-right-color: var(--fill-color);\n",
              "    }\n",
              "    80% {\n",
              "      border-color: transparent;\n",
              "      border-right-color: var(--fill-color);\n",
              "      border-bottom-color: var(--fill-color);\n",
              "    }\n",
              "    90% {\n",
              "      border-color: transparent;\n",
              "      border-bottom-color: var(--fill-color);\n",
              "    }\n",
              "  }\n",
              "</style>\n",
              "\n",
              "      <script>\n",
              "        async function quickchart(key) {\n",
              "          const quickchartButtonEl =\n",
              "            document.querySelector('#' + key + ' button');\n",
              "          quickchartButtonEl.disabled = true;  // To prevent multiple clicks.\n",
              "          quickchartButtonEl.classList.add('colab-df-spinner');\n",
              "          try {\n",
              "            const charts = await google.colab.kernel.invokeFunction(\n",
              "                'suggestCharts', [key], {});\n",
              "          } catch (error) {\n",
              "            console.error('Error during call to suggestCharts:', error);\n",
              "          }\n",
              "          quickchartButtonEl.classList.remove('colab-df-spinner');\n",
              "          quickchartButtonEl.classList.add('colab-df-quickchart-complete');\n",
              "        }\n",
              "        (() => {\n",
              "          let quickchartButtonEl =\n",
              "            document.querySelector('#df-f4f96e08-c3c6-4a0b-9d02-54a08068b599 button');\n",
              "          quickchartButtonEl.style.display =\n",
              "            google.colab.kernel.accessAllowed ? 'block' : 'none';\n",
              "        })();\n",
              "      </script>\n",
              "    </div>\n",
              "\n",
              "    </div>\n",
              "  </div>\n"
            ],
            "application/vnd.google.colaboratory.intrinsic+json": {
              "type": "dataframe",
              "summary": "{\n  \"name\": \"df\",\n  \"rows\": 10,\n  \"fields\": [\n    {\n      \"column\": \"show_id\",\n      \"properties\": {\n        \"dtype\": \"number\",\n        \"std\": 3286885,\n        \"min\": 70035037,\n        \"max\": 81215567,\n        \"num_unique_values\": 10,\n        \"samples\": [\n          80115338,\n          80022456,\n          80175798\n        ],\n        \"semantic_type\": \"\",\n        \"description\": \"\"\n      }\n    },\n    {\n      \"column\": \"type\",\n      \"properties\": {\n        \"dtype\": \"category\",\n        \"num_unique_values\": 2,\n        \"samples\": [\n          \"TV Show\",\n          \"Movie\"\n        ],\n        \"semantic_type\": \"\",\n        \"description\": \"\"\n      }\n    },\n    {\n      \"column\": \"title\",\n      \"properties\": {\n        \"dtype\": \"string\",\n        \"num_unique_values\": 10,\n        \"samples\": [\n          \"Llama Llama\",\n          \"Cooked\"\n        ],\n        \"semantic_type\": \"\",\n        \"description\": \"\"\n      }\n    },\n    {\n      \"column\": \"director\",\n      \"properties\": {\n        \"dtype\": \"string\",\n        \"num_unique_values\": 7,\n        \"samples\": [\n          \"Gaby Dellal\",\n          \"Savage Steve Holland\"\n        ],\n        \"semantic_type\": \"\",\n        \"description\": \"\"\n      }\n    },\n    {\n      \"column\": \"cast\",\n      \"properties\": {\n        \"dtype\": \"string\",\n        \"num_unique_values\": 9,\n        \"samples\": [\n          \"Jennifer Garner, Shayle Simons, Vania Gill, Islie Hirvonen, Brendon Sunderland, Austin Abell, Evans Johnson, Kathleen Barr, David Hoole\",\n          \"Michael Pollan\"\n        ],\n        \"semantic_type\": \"\",\n        \"description\": \"\"\n      }\n    },\n    {\n      \"column\": \"country\",\n      \"properties\": {\n        \"dtype\": \"category\",\n        \"num_unique_values\": 4,\n        \"samples\": [\n          \"Japan\",\n          \"United Kingdom, France, Belgium\"\n        ],\n        \"semantic_type\": \"\",\n        \"description\": \"\"\n      }\n    },\n    {\n      \"column\": \"date_added\",\n      \"properties\": {\n        \"dtype\": \"string\",\n        \"num_unique_values\": 10,\n        \"samples\": [\n          \" November 15, 2019\",\n          \"February 19, 2016\"\n        ],\n        \"semantic_type\": \"\",\n        \"description\": \"\"\n      }\n    },\n    {\n      \"column\": \"release_year\",\n      \"properties\": {\n        \"dtype\": \"number\",\n        \"std\": 4,\n        \"min\": 2003,\n        \"max\": 2019,\n        \"num_unique_values\": 5,\n        \"samples\": [\n          2016,\n          2003\n        ],\n        \"semantic_type\": \"\",\n        \"description\": \"\"\n      }\n    },\n    {\n      \"column\": \"rating\",\n      \"properties\": {\n        \"dtype\": \"string\",\n        \"num_unique_values\": 7,\n        \"samples\": [\n          \"PG-13\",\n          \"TV-PG\"\n        ],\n        \"semantic_type\": \"\",\n        \"description\": \"\"\n      }\n    },\n    {\n      \"column\": \"duration\",\n      \"properties\": {\n        \"dtype\": \"string\",\n        \"num_unique_values\": 8,\n        \"samples\": [\n          \"1 Season\",\n          \"209 min\"\n        ],\n        \"semantic_type\": \"\",\n        \"description\": \"\"\n      }\n    },\n    {\n      \"column\": \"listed_in\",\n      \"properties\": {\n        \"dtype\": \"string\",\n        \"num_unique_values\": 9,\n        \"samples\": [\n          \"Kids' TV\",\n          \"Docuseries\"\n        ],\n        \"semantic_type\": \"\",\n        \"description\": \"\"\n      }\n    },\n    {\n      \"column\": \"description\",\n      \"properties\": {\n        \"dtype\": \"string\",\n        \"num_unique_values\": 10,\n        \"samples\": [\n          \"Beloved children's book character Llama Llama springs to life in this heartwarming series about family, friendship and learning new things.\",\n          \"As he tries his hand at baking, brewing and braising, acclaimed food writer Michael Pollan explores how cooking transforms food and shapes our world.\"\n        ],\n        \"semantic_type\": \"\",\n        \"description\": \"\"\n      }\n    }\n  ]\n}"
            }
          },
          "metadata": {},
          "execution_count": 7
        }
      ]
    },
    {
      "cell_type": "code",
      "source": [
        "df.isnull().sum()"
      ],
      "metadata": {
        "colab": {
          "base_uri": "https://localhost:8080/",
          "height": 460
        },
        "id": "rFihaS5ZWcYH",
        "outputId": "6ade245d-4197-49fb-c8d2-b593d95a0a69"
      },
      "execution_count": null,
      "outputs": [
        {
          "output_type": "execute_result",
          "data": {
            "text/plain": [
              "show_id            0\n",
              "type               0\n",
              "title              0\n",
              "director        1969\n",
              "cast             570\n",
              "country          476\n",
              "date_added        11\n",
              "release_year       0\n",
              "rating            10\n",
              "duration           0\n",
              "listed_in          0\n",
              "description        0\n",
              "dtype: int64"
            ],
            "text/html": [
              "<div>\n",
              "<style scoped>\n",
              "    .dataframe tbody tr th:only-of-type {\n",
              "        vertical-align: middle;\n",
              "    }\n",
              "\n",
              "    .dataframe tbody tr th {\n",
              "        vertical-align: top;\n",
              "    }\n",
              "\n",
              "    .dataframe thead th {\n",
              "        text-align: right;\n",
              "    }\n",
              "</style>\n",
              "<table border=\"1\" class=\"dataframe\">\n",
              "  <thead>\n",
              "    <tr style=\"text-align: right;\">\n",
              "      <th></th>\n",
              "      <th>0</th>\n",
              "    </tr>\n",
              "  </thead>\n",
              "  <tbody>\n",
              "    <tr>\n",
              "      <th>show_id</th>\n",
              "      <td>0</td>\n",
              "    </tr>\n",
              "    <tr>\n",
              "      <th>type</th>\n",
              "      <td>0</td>\n",
              "    </tr>\n",
              "    <tr>\n",
              "      <th>title</th>\n",
              "      <td>0</td>\n",
              "    </tr>\n",
              "    <tr>\n",
              "      <th>director</th>\n",
              "      <td>1969</td>\n",
              "    </tr>\n",
              "    <tr>\n",
              "      <th>cast</th>\n",
              "      <td>570</td>\n",
              "    </tr>\n",
              "    <tr>\n",
              "      <th>country</th>\n",
              "      <td>476</td>\n",
              "    </tr>\n",
              "    <tr>\n",
              "      <th>date_added</th>\n",
              "      <td>11</td>\n",
              "    </tr>\n",
              "    <tr>\n",
              "      <th>release_year</th>\n",
              "      <td>0</td>\n",
              "    </tr>\n",
              "    <tr>\n",
              "      <th>rating</th>\n",
              "      <td>10</td>\n",
              "    </tr>\n",
              "    <tr>\n",
              "      <th>duration</th>\n",
              "      <td>0</td>\n",
              "    </tr>\n",
              "    <tr>\n",
              "      <th>listed_in</th>\n",
              "      <td>0</td>\n",
              "    </tr>\n",
              "    <tr>\n",
              "      <th>description</th>\n",
              "      <td>0</td>\n",
              "    </tr>\n",
              "  </tbody>\n",
              "</table>\n",
              "</div><br><label><b>dtype:</b> int64</label>"
            ]
          },
          "metadata": {},
          "execution_count": 9
        }
      ]
    },
    {
      "cell_type": "markdown",
      "source": [],
      "metadata": {
        "id": "Z89omG8sXaPm"
      }
    },
    {
      "cell_type": "code",
      "source": [
        "sns.countplot(df['type'])"
      ],
      "metadata": {
        "colab": {
          "base_uri": "https://localhost:8080/",
          "height": 466
        },
        "id": "AGIWNf8LXu7D",
        "outputId": "24db74cc-6d71-4942-d687-45f2f4e0ba13"
      },
      "execution_count": null,
      "outputs": [
        {
          "output_type": "execute_result",
          "data": {
            "text/plain": [
              "<Axes: xlabel='count', ylabel='type'>"
            ]
          },
          "metadata": {},
          "execution_count": 13
        },
        {
          "output_type": "display_data",
          "data": {
            "text/plain": [
              "<Figure size 640x480 with 1 Axes>"
            ],
            "image/png": "[encoded data removed]"
          },
          "metadata": {}
        }
      ]
    },
    {
      "cell_type": "code",
      "source": [
        "df['type'].value_counts().plot(kind='pie', autopct='%1.1f%%')"
      ],
      "metadata": {
        "colab": {
          "base_uri": "https://localhost:8080/",
          "height": 423
        },
        "id": "qd4CrFMnYS9h",
        "outputId": "13580420-8fb2-4809-c2e9-7be7d44fa190"
      },
      "execution_count": null,
      "outputs": [
        {
          "output_type": "execute_result",
          "data": {
            "text/plain": [
              "<Axes: ylabel='count'>"
            ]
          },
          "metadata": {},
          "execution_count": 16
        },
        {
          "output_type": "display_data",
          "data": {
            "text/plain": [
              "<Figure size 640x480 with 1 Axes>"
            ],
            "image/png": "[encoded data removed]"
          },
          "metadata": {}
        }
      ]
    },
    {
      "cell_type": "markdown",
      "source": [
        "**31.6%** - TV Shows\n",
        "\n",
        "**68.4%** - Movies\n"
      ],
      "metadata": {
        "id": "Ed2JXlmIYwFN"
      }
    },
    {
      "cell_type": "code",
      "source": [
        "df['country'].value_counts().head(5).plot(kind='bar')\n",
        "plt.xlabel(\"Country\")\n",
        "plt.ylabel('Count')"
      ],
      "metadata": {
        "colab": {
          "base_uri": "https://localhost:8080/",
          "height": 564
        },
        "id": "06udG84Dbytq",
        "outputId": "6373b1dd-e766-4ceb-c41b-9eefd3cbba39"
      },
      "execution_count": null,
      "outputs": [
        {
          "output_type": "execute_result",
          "data": {
            "text/plain": [
              "Text(0, 0.5, 'Count')"
            ]
          },
          "metadata": {},
          "execution_count": 39
        },
        {
          "output_type": "display_data",
          "data": {
            "text/plain": [
              "<Figure size 640x480 with 1 Axes>"
            ],
            "image/png": "[encoded data removed]"
          },
          "metadata": {}
        }
      ]
    },
    {
      "cell_type": "markdown",
      "source": [
        "USA > IND > UK > JAPAN > CANADA"
      ],
      "metadata": {
        "id": "vx0ZHXYEdqM_"
      }
    },
    {
      "cell_type": "code",
      "source": [
        "df['release_year'].value_counts().head(5).plot(kind='bar', edgecolor='k')\n",
        "plt.title('Top 5 release years for Netflix')\n",
        "plt.xlabel('Release year')\n",
        "plt.ylabel('Number of release')"
      ],
      "metadata": {
        "colab": {
          "base_uri": "https://localhost:8080/",
          "height": 510
        },
        "id": "n6V_6Xedd1A5",
        "outputId": "6dcb301e-6f18-4351-bae2-38f1709c7b00"
      },
      "execution_count": null,
      "outputs": [
        {
          "output_type": "execute_result",
          "data": {
            "text/plain": [
              "Text(0, 0.5, 'Number of release')"
            ]
          },
          "metadata": {},
          "execution_count": 37
        },
        {
          "output_type": "display_data",
          "data": {
            "text/plain": [
              "<Figure size 640x480 with 1 Axes>"
            ],
            "image/png": "[encoded data removed]"
          },
          "metadata": {}
        }
      ]
    },
    {
      "cell_type": "markdown",
      "source": [
        "2018 had the most release"
      ],
      "metadata": {
        "id": "o2qcJ4rIhdxe"
      }
    },
    {
      "cell_type": "code",
      "source": [
        "sns.boxplot(data=df, x='type', y='release_year')\n",
        "plt.title('Release Year by Content Type')"
      ],
      "metadata": {
        "colab": {
          "base_uri": "https://localhost:8080/",
          "height": 489
        },
        "id": "8l1GMrPegaPq",
        "outputId": "7c95e455-0ad9-47f1-f028-ac4bf9deb994"
      },
      "execution_count": null,
      "outputs": [
        {
          "output_type": "execute_result",
          "data": {
            "text/plain": [
              "Text(0.5, 1.0, 'Release Year by Content Type')"
            ]
          },
          "metadata": {},
          "execution_count": 36
        },
        {
          "output_type": "display_data",
          "data": {
            "text/plain": [
              "<Figure size 640x480 with 1 Axes>"
            ],
            "image/png": "[encoded data removed]"
          },
          "metadata": {}
        }
      ]
    },
    {
      "cell_type": "markdown",
      "source": [
        "TV shows started getting popular after the rise of streaming sites"
      ],
      "metadata": {
        "id": "01o7UHjRgnd1"
      }
    }
  ]
}